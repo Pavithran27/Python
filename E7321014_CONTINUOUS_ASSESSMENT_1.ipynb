{
 "cells": [
  {
   "cell_type": "markdown",
   "metadata": {},
   "source": [
    "# M.Sc. DEGREE &nbsp; &nbsp; &nbsp; &nbsp; &nbsp; &nbsp; &nbsp; &nbsp; &nbsp; &nbsp; &nbsp; &nbsp; &nbsp; &nbsp; &nbsp; &nbsp; &nbsp; &nbsp;&nbsp;&nbsp; &nbsp; &nbsp; &nbsp; &nbsp; &nbsp; &nbsp; &nbsp; &nbsp;&nbsp;&nbsp;&nbsp; UNIQUE ID-E7321014\n",
    "\n",
    "CONTINUOUS ASSESSMENT 1\n",
    "\n",
    "OCT – 2021: I YEAR – QUARTER 1\n",
    "\n",
    "CSC 520: Python Programming                                                                    "
   ]
  },
  {
   "cell_type": "markdown",
   "metadata": {},
   "source": [
    "# Answer ALL the questions\n",
    "\n",
    "## PART A"
   ]
  },
  {
   "cell_type": "markdown",
   "metadata": {},
   "source": [
    "1.Write a program to implement the Rocket Launching Count Down by getting two\n",
    "inputs say start and stop from user. Print the message “Count Down Starts” and print\n",
    "the decremented value of from start to stop and when it reaches stop print “Ready to\n",
    "Launch”. Use appropriate coding standards to fulfil the requirement."
   ]
  },
  {
   "cell_type": "code",
   "execution_count": null,
   "metadata": {
    "colab": {
     "base_uri": "https://localhost:8080/"
    },
    "id": "K4Sphgm_43W_",
    "outputId": "f39cb72f-9a41-461a-f618-bdc176d2b4c1"
   },
   "outputs": [
    {
     "name": "stdout",
     "output_type": "stream",
     "text": [
      "Start= 5\n",
      "Stop= 1\n",
      "Count down Starts\n",
      "5\n",
      "4\n",
      "3\n",
      "2\n",
      "1\n",
      "Ready to Launch\n"
     ]
    }
   ],
   "source": [
    "#1.program to implement the rocket launch\n",
    "start=int(input(\"Start= \")) #getting input for start value\n",
    "stop=int(input(\"Stop= \")) #getting input for stop value\n",
    "print(\"Count down Starts\") \n",
    "start+=1 #adding 1 in value of start for getting values for start [5+1=6]\n",
    "while start>stop:#checking start is greater than stop [ex: 6>1]\n",
    "    start-=1#subtracting [6-1=5]\n",
    "    print(start)\n",
    "print(\"Ready to Launch\")"
   ]
  },
  {
   "cell_type": "markdown",
   "metadata": {},
   "source": [
    "2. Develop a program to guess a number. Computer chooses a number between 1 to N\n",
    "randomly. Then it gives a hint to guess the number. Every time the user guesses wrong,he gets another clue, but his score gets reduced. Develop a number guessing game with\n",
    "following conditions:\n",
    "\n",
    "- The player only gets five turns.\n",
    "\n",
    "- After each guess, the program tells the player if the number is higher or lower.\n",
    "\n",
    "- The program prints appropriate messages when the player wins /loses."
   ]
  },
  {
   "cell_type": "code",
   "execution_count": null,
   "metadata": {
    "colab": {
     "base_uri": "https://localhost:8080/"
    },
    "id": "-EErMqxi4-e4",
    "outputId": "5c9aa0bf-8dae-4293-9cc1-a8dfc4d191a4"
   },
   "outputs": [
    {
     "name": "stdout",
     "output_type": "stream",
     "text": [
      "Enter your guess(1-100): 56\n",
      "Lower\n",
      "4 guesses left\n",
      "Enter your guess(1-100): 50\n",
      "Lower\n",
      "3 guesses left\n",
      "Enter your guess(1-100): 40\n",
      "Lower\n",
      "2 guesses left\n",
      "Enter your guess(1-100): 30\n",
      "Lower\n",
      "1 guesses left\n",
      "Enter your guess(1-100): 10\n",
      "Lower\n",
      "0 guesses left\n",
      "you lose \n",
      "The correct number is 8\n"
     ]
    }
   ],
   "source": [
    "#2 A program to guess a number whichis going to be generate by the computer here i gave 1-100 to guess\n",
    "import random #generates random value\n",
    "guesses=5 \n",
    "i=0 # for assigning to start a loop from 0\n",
    "computer_guess=random.randint(1,100) #it generates a single integer from 1 to 100\n",
    "while(i<=guesses): #while loop starts\n",
    "    my_guess=int(input(\"Enter your guess(1-100): \")) #getting input from user\n",
    "    if my_guess==computer_guess: \n",
    "        print(\"You won\",computer_guess)\n",
    "        break\n",
    "    elif my_guess>computer_guess:\n",
    "        print(\"Lower\")\n",
    "    elif my_guess<computer_guess:\n",
    "        print(\"Higher\")\n",
    "    print(4-i,\"guesses left\")\n",
    "    i=i+1  #for increment one it goes to while and ends when i<=guesess\n",
    "    if i==5: #after the i value comes out loop i value will be 5\n",
    "        print(\"you lose \\nThe correct number is {}\".format(computer_guess))\n",
    "        break"
   ]
  },
  {
   "cell_type": "markdown",
   "metadata": {},
   "source": [
    "3. Write a program in python to implement substitution cipher that takes two input strings\n",
    "from user and determine whether the second string is the encoded version of the first\n",
    "string."
   ]
  },
  {
   "cell_type": "code",
   "execution_count": 1,
   "metadata": {
    "colab": {
     "base_uri": "https://localhost:8080/"
    },
    "id": "dWEB69Jt5Mjx",
    "outputId": "c34e7eb2-abd9-4792-ab9b-3d3c06f4afc0"
   },
   "outputs": [
    {
     "name": "stdout",
     "output_type": "stream",
     "text": [
      "String1: book\n",
      "String2: cppl\n",
      "String2 is an encoded version of String1\n"
     ]
    }
   ],
   "source": [
    "#3 program to implement substitution cipher that takes two input strings from user and determine whether the second string is the encoded version of the first string.\n",
    "#here my key is shift1 of the key\n",
    "letters = \"abcdefghijklmnopqrstuvwxyz\".upper() #assgining alphabets to letters\n",
    "key = \"abcdefghijklmnopqrstuvwxyz\".upper()  #the key here,alphabets\n",
    "text1 = input(\"String1: \").upper() #getting input and converting into uppercase\n",
    "text2 =input(\"String2: \").upper() #getting input and converting into uppercase\n",
    "crypt = \"\"#empty stirng\n",
    "decrypt=\"\"#empty stirng\n",
    "#encryption part\n",
    "for i in text1: # ex: BOOK means i=B\n",
    "    if i in letters:#checking the \"i\" in \"letters\"\n",
    "        x=letters.find(i)#getting the index of the i\n",
    "        crypt =crypt + key[x+1]#getting the value of i and adding one to it for \"shift\"\n",
    "    else:\n",
    "        crypt+=i#adding to the empty string (\"crypt\") if its as space comes here and foes to for loop\n",
    "#decryption part\n",
    "for i in crypt: #checking i in crpyt\n",
    "    if i in key:#ex:cppl is encrpyted \"c\" in key it checks\n",
    "        x=key.find(i) #it  find the \"c\" in key\n",
    "        decrypt =decrypt + letters[x-1]#here subtracting -1 to decrypt\n",
    "    else:\n",
    "        decrypt+=i#if its has space it goes to for loop and it will initialise\n",
    "#comparing the encrypted and decrypt text\n",
    "if text2==crypt: # if the encrypted and decrypt text is equal \n",
    "    print(\"String2 is an encoded version of String1\")\n",
    "else:\n",
    "    print(\"string2 is not  encoded version of String1\")"
   ]
  },
  {
   "cell_type": "code",
   "execution_count": 20,
   "metadata": {},
   "outputs": [
    {
     "name": "stdout",
     "output_type": "stream",
     "text": [
      "String1: book\n",
      "String2: bccz\n",
      "string2 is not  encoded version of String1\n"
     ]
    }
   ],
   "source": [
    "#3 program to implement substitution cipher that takes two input strings from user and determine whether the second string is the encoded version of the first string.\n",
    "#here my key is shift1 of the key\n",
    "letters = \"abcdefghijklmnopqrstuvwxyz\".upper() #assgining alphabets to letters\n",
    "key = \"abcdefghijklmnopqrstuvwxyz\".upper()  #the key here,alphabets\n",
    "text1 = input(\"String1: \").upper() #getting input and converting into uppercase\n",
    "text2 =input(\"String2: \").upper() #getting input and converting into uppercase\n",
    "crypt = \"\"#empty stirng\n",
    "decrypt=\"\"#empty stirng\n",
    "#encryption part\n",
    "for i in text1: # ex: BOOK means i=B\n",
    "    if i in letters:#checking the \"i\" in \"letters\"\n",
    "        x=letters.find(i)#getting the index of the i\n",
    "        crypt =crypt + key[x+1]#getting the value of i and adding one to it for \"shift\"\n",
    "    else:\n",
    "        crypt+=i#adding to the empty string (\"crypt\") if its as space comes here and foes to for loop\n",
    "#decryption part\n",
    "for i in crypt: #checking i in crpyt\n",
    "    if i in key:#ex:cppl is encrpyted \"c\" in key it checks\n",
    "        x=key.find(i) #it  find the \"c\" in key\n",
    "        decrypt =decrypt + letters[x-1]#here subtracting -1 to decrypt\n",
    "    else:\n",
    "        decrypt+=i#if its has space it goes to for loop and it will initialise\n",
    "#comparing the encrypted and decrypt text\n",
    "if text2==crypt: # if the encrypted and decrypt text is equal \n",
    "    print(\"String2 is an encoded version of String1\")\n",
    "else:\n",
    "    print(\"string2 is not  encoded version of String1\")"
   ]
  },
  {
   "cell_type": "markdown",
   "metadata": {},
   "source": [
    "4. A tournament is being held for the game Rock, Paper, and Scissors. A tournament has 15 games for a pair of players. Between two players (Player A and Player B), determine\n",
    "who wins each game and who wins the overall tournament. The game is a draw if both\n",
    "players choose the same item. Paper wins over rock because paper covers rock. Scissors\n",
    "wins over paper because scissors cuts paper. Rock wins over scissors because rock\n",
    "breaks scissors. Print DRAW if tournament is a tie. Print the logic of the game using\n",
    "appropriate Data Structure in Python"
   ]
  },
  {
   "cell_type": "code",
   "execution_count": 3,
   "metadata": {
    "colab": {
     "base_uri": "https://localhost:8080/"
    },
    "id": "tDsbzUEw8d4p",
    "outputId": "98255fa9-ab6e-46ef-9e7c-0a81368e90cd",
    "scrolled": true
   },
   "outputs": [
    {
     "name": "stdout",
     "output_type": "stream",
     "text": [
      "\n",
      "Player1 Enter a choice (rock, paper, scissors):scissors\n",
      "Player1 Enter a choice (rock, paper, scissors):paper\n",
      "Player1 chose scissors Player2 chose paper\n",
      "\n",
      "Scissors cuts paper!  Player1 win\n",
      "\n",
      "Player1 Enter a choice (rock, paper, scissors):rock\n",
      "Player1 Enter a choice (rock, paper, scissors):paper\n",
      "Player1 chose rock Player2 chose paper\n",
      "\n",
      "Paper covers rock!  Player2 win .\n",
      "\n",
      "Player1 Enter a choice (rock, paper, scissors):scissors\n",
      "Player1 Enter a choice (rock, paper, scissors):rock\n",
      "Player1 chose scissors Player2 chose rock\n",
      "\n",
      "Rock smashes scissors!  Player2 win.\n",
      "\n",
      "Player1 Enter a choice (rock, paper, scissors):rock\n",
      "Player1 Enter a choice (rock, paper, scissors):rock\n",
      "Player1 chose rock Player2 chose rock\n",
      "\n",
      "Both Players selected. rock It's a tie!\n",
      "\n",
      "Player1 Enter a choice (rock, paper, scissors):scissors\n",
      "Player1 Enter a choice (rock, paper, scissors):scissors\n",
      "Player1 chose scissors Player2 chose scissors\n",
      "\n",
      "Both Players selected. scissors It's a tie!\n",
      "\n",
      "Player1 Enter a choice (rock, paper, scissors):paper\n",
      "Player1 Enter a choice (rock, paper, scissors):paper\n",
      "Player1 chose paper Player2 chose paper\n",
      "\n",
      "Both Players selected. paper It's a tie!\n",
      "\n",
      "Player1 Enter a choice (rock, paper, scissors):paper\n",
      "Player1 Enter a choice (rock, paper, scissors):scissors\n",
      "Player1 chose paper Player2 chose scissors\n",
      "\n",
      "Scissors cuts paper!  Player2 win.\n",
      "\n",
      "Player1 Enter a choice (rock, paper, scissors):rock\n",
      "Player1 Enter a choice (rock, paper, scissors):scissors\n",
      "Player1 chose rock Player2 chose scissors\n",
      "\n",
      "Rock smashes scissors! Player1 win\n",
      "\n",
      "Player1 Enter a choice (rock, paper, scissors):scissors\n",
      "Player1 Enter a choice (rock, paper, scissors):rock\n",
      "Player1 chose scissors Player2 chose rock\n",
      "\n",
      "Rock smashes scissors!  Player2 win.\n",
      "\n",
      "Player1 Enter a choice (rock, paper, scissors):scissors\n",
      "Player1 Enter a choice (rock, paper, scissors):paper\n",
      "Player1 chose scissors Player2 chose paper\n",
      "\n",
      "Scissors cuts paper!  Player1 win\n",
      "\n",
      "Player1 Enter a choice (rock, paper, scissors):rock\n",
      "Player1 Enter a choice (rock, paper, scissors):paper\n",
      "Player1 chose rock Player2 chose paper\n",
      "\n",
      "Paper covers rock!  Player2 win .\n",
      "\n",
      "Player1 Enter a choice (rock, paper, scissors):rock\n",
      "Player1 Enter a choice (rock, paper, scissors):scissors\n",
      "Player1 chose rock Player2 chose scissors\n",
      "\n",
      "Rock smashes scissors! Player1 win\n",
      "\n",
      "Player1 Enter a choice (rock, paper, scissors):paper\n",
      "Player1 Enter a choice (rock, paper, scissors):rock\n",
      "Player1 chose paper Player2 chose rock\n",
      "\n",
      "Paper covers rock!  Player1  win!\n",
      "\n",
      "Player1 Enter a choice (rock, paper, scissors):paper\n",
      "Player1 Enter a choice (rock, paper, scissors):rock\n",
      "Player1 chose paper Player2 chose rock\n",
      "\n",
      "Paper covers rock!  Player1  win!\n",
      "\n",
      "Player1 Enter a choice (rock, paper, scissors):scissors\n",
      "Player1 Enter a choice (rock, paper, scissors):rock\n",
      "Player1 chose scissors Player2 chose rock\n",
      "\n",
      "Rock smashes scissors!  Player2 win.\n",
      "\n",
      "Draw\n"
     ]
    }
   ],
   "source": [
    "#4.A tournament is being held for the game Rock, Paper, and Scissors. A tournament has 15 games for a pair of players. Between two players (Player A and Player B), determine who wins each game and who wins the overall tournament.\n",
    "#like we play rock paper scissor in real\n",
    "#rules- 1.rock paper = paper wins\n",
    "#2.rock scissor = rock wins\n",
    "#3.paper scissor = scissor wins\n",
    "#if (rock rock) (paper paper) (scissors scissors ) means tie\n",
    "i=0 \n",
    "count1,count2=0,0#assigning count1 and count2 as 0\n",
    "while i<15:#ckecking i is lesser than i\n",
    "    player1 = input(\"\\nPlayer1 Enter a choice (rock, paper, scissors):\")#getting input from player1\n",
    "    player2 = input(\"Player1 Enter a choice (rock, paper, scissors):\")#getting input from from player2 \n",
    "    print(\"Player1 chose\" ,player1,  \"Player2 chose\",player2)\n",
    "    if player1 == player2: #checks ex:rock==rock\n",
    "        print(\"\\nBoth Players selected.\",player1, \"It's a tie!\")\n",
    "    elif player1 == \"rock\":\n",
    "        if player2 == \"scissors\":\n",
    "            print(\"\\nRock smashes scissors! Player1 win\")\n",
    "            count1+=1#player1 win so,count1=1 when the player1 win\n",
    "        else:\n",
    "            print(\"\\nPaper covers rock!  Player2 win .\")\n",
    "            count2+=1#player2 win so,count2=1 when the player2 win\n",
    "    elif player1 == \"paper\":\n",
    "        if player2 == \"rock\":\n",
    "            print(\"\\nPaper covers rock!  Player1  win!\")\n",
    "            count1+=1#player1 win so,count1=1 when the player1 win\n",
    "        else:\n",
    "            print(\"\\nScissors cuts paper!  Player2 win.\")\n",
    "            count2+=1#player1 win so,count2=1 when the player2 win\n",
    "    elif player1 == \"scissors\":\n",
    "        if player2 == \"paper\":\n",
    "            print(\"\\nScissors cuts paper!  Player1 win\")\n",
    "            count1+=1#player1 win so,count1=1 when the player1 win\n",
    "        else:\n",
    "            print(\"\\nRock smashes scissors!  Player2 win.\")\n",
    "            count2+=1#player2 win so,count2=1 when the player2 win\n",
    "            #likewise the count1 and count2 gets incremented when each player wins\n",
    "    i=i+1\n",
    "if count1==count2:# checks how times  both the player tied the game\n",
    "    print(\"\\nDraw\")\n",
    "elif count1>count2:# if the player1 have count more than palyer 2\n",
    "    print(\"\\nPlayer1 wins the tournament\")\n",
    "else:\n",
    "    print(\"\\nPlayer2 wins the tournament\")\n"
   ]
  },
  {
   "cell_type": "markdown",
   "metadata": {},
   "source": [
    "5. Sathish recently lost 5 Kg of weight in just 3 weeks. This has made Priyan very\n",
    "conscious of his weight, so he started to go on a diet. He wants to know how well he&#39;s\n",
    "progressing, but Priyan forgot his basic arithmetic (he seems to have lost too much\n",
    "weight in his head)!As Priyan&#39;s friend, he wants you to make a program that will tell him\n",
    "if he&#39;s overweight according to the Body Mass Index (BMI). In case you don&#39;t\n",
    "remember, the formula for BMI is: BMI=weight/(height) 2"
   ]
  },
  {
   "cell_type": "code",
   "execution_count": null,
   "metadata": {
    "colab": {
     "base_uri": "https://localhost:8080/"
    },
    "id": "IiyLqbEm5CAc",
    "outputId": "2d4405fc-929c-4a77-d21d-15d123218851"
   },
   "outputs": [
    {
     "name": "stdout",
     "output_type": "stream",
     "text": [
      "Enter the weight in kg: 60\n",
      "Enter the height in meters 1.5\n",
      "Estimated BMI is: Overweight\n"
     ]
    }
   ],
   "source": [
    "#5 A program to calculate BMI  \n",
    "#formula for BMI=weight/(height/height)\n",
    "weight = int(input(\"Enter the weight in kg: \")) #getting input for weigth from user\n",
    "if weight<0: #condition checking for negative values are in \"weight\"\n",
    "    print(\"Please reenter the input again input cant be negative\")\n",
    "else:\n",
    "    height = float(input(\"Enter the height in meters \")) #getting input for height from user\n",
    "    BMI = weight / (height*height) #bmi is weight/height*height\n",
    "    if BMI>25 : #checking bmi is greater than 25\n",
    "        x=\"Overweight\"\n",
    "    elif BMI>=18 and BMI<25 :#checking bmi is greater than 18 and lesser than 25\n",
    "        x=\"Normal\"\n",
    "    elif BMI<18 :#checking bmi is lesser than 18\n",
    "        x=\"Underweight\"\n",
    "    print(\"Estimated BMI is:\",x)"
   ]
  },
  {
   "cell_type": "code",
   "execution_count": 19,
   "metadata": {},
   "outputs": [
    {
     "name": "stdout",
     "output_type": "stream",
     "text": [
      "Enter the weight in kg: -20\n",
      "Please reenter the input again input cant be negative\n"
     ]
    }
   ],
   "source": [
    "#5 A program to calculate BMI  \n",
    "#formula for BMI=weight/(height/height)\n",
    "weight = int(input(\"Enter the weight in kg: \")) #getting input for weigth from user\n",
    "if weight<0: #condition checking for negative values are in \"weight\"\n",
    "    print(\"Please reenter the input again input cant be negative\")\n",
    "else:\n",
    "    height = float(input(\"Enter the height in meters \")) #getting input for height from user\n",
    "    BMI = weight / (height*height) #bmi is weight/height*height\n",
    "    if BMI>25 : #checking bmi is greater than 25\n",
    "        x=\"Overweight\"\n",
    "    elif BMI>=18 and BMI<25 :#checking bmi is greater than 18 and lesser than 25\n",
    "        x=\"Normal\"\n",
    "    elif BMI<18 :#checking bmi is lesser than 18\n",
    "        x=\"Underweight\"\n",
    "    print(\"Estimated BMI is:\",x)"
   ]
  },
  {
   "cell_type": "markdown",
   "metadata": {},
   "source": [
    "## PART B"
   ]
  },
  {
   "cell_type": "markdown",
   "metadata": {},
   "source": [
    "6. Write a program in the file academy.py to practice mathematics problems. The program\n",
    "should randomly generate simple addition problems. Read the answer from users and\n",
    "then check whether the answer is correct or incorrect. Keep generating the mathematics\n",
    "problem till the user gets three consecutive correct answers."
   ]
  },
  {
   "cell_type": "code",
   "execution_count": 2,
   "metadata": {
    "colab": {
     "base_uri": "https://localhost:8080/"
    },
    "id": "VO05b3Hi5Ep1",
    "outputId": "7fc96fe8-062b-489d-caf7-3e124bbb9013",
    "scrolled": true
   },
   "outputs": [
    {
     "name": "stdout",
     "output_type": "stream",
     "text": [
      "What is 9 + 8 ?\n",
      "Enter your answer:17\n",
      "Correct! You've gotten 1 correct in a row\n",
      "What is 10 + 8 ?\n",
      "Enter your answer:18\n",
      "Correct! You've gotten 2 correct in a row\n",
      "What is 10 + 9 ?\n",
      "Enter your answer:19\n",
      "Correct! You've gotten 3 correct in a row\n",
      "Congratulations! You mastered addition.\n"
     ]
    }
   ],
   "source": [
    "#6.programshould randomly generate simple addition problems. Read the answer from users andthen check whether the answer is correct or incorrect.\n",
    "#generating the mathematics problem till the user gets three consecutive correct answers.\n",
    "#random numbers (1-10) for both\n",
    "import random as a #importing random value as a\n",
    "import random as b #importing random value as a\n",
    "guess=3\n",
    "i=0\n",
    "while(i<guess): #checking \"i\" is lesser than guess\n",
    "    num1=a.randint(1,10) #assgining num1 as random of a\n",
    "    num2=b.randint(1,10) #assgining num2 as random of b\n",
    "    num3=num1+num2\n",
    "    print(\"What is\",num1,\"+\",num2,\"?\")\n",
    "    number=int(input(\"Enter your answer:\")) \n",
    "    if num3==number:#checking the num3 is equal to number\n",
    "        i+=1 #increment to loop\n",
    "        print(\"Correct! You've gotten\",i,\"correct in a row\")\n",
    "        if i==3: # checking i is equal to 3 \n",
    "            print(\"Congratulations! You mastered addition.\")\n",
    "    else:\n",
    "        print(\"incorrect.The expected answer is \",num1,\"+\",num2,\"=\",num1+num2)\n",
    "        break"
   ]
  },
  {
   "cell_type": "code",
   "execution_count": 22,
   "metadata": {},
   "outputs": [
    {
     "name": "stdout",
     "output_type": "stream",
     "text": [
      "What is 4 + 3 ?\n",
      "Enter your answer:11\n",
      "incorrect.The expected answer is  4 + 3 = 7\n"
     ]
    }
   ],
   "source": [
    "#6.programshould randomly generate simple addition problems. Read the answer from users andthen check whether the answer is correct or incorrect.\n",
    "#generating the mathematics problem till the user gets three consecutive correct answers.\n",
    "#random numbers (1-10) for both\n",
    "import random as a #importing random value as a\n",
    "import random as b #importing random value as a\n",
    "guess=3\n",
    "i=0\n",
    "while(i<guess): #checking \"i\" is lesser than guess\n",
    "    num1=a.randint(1,10) #assgining num1 as random of a\n",
    "    num2=b.randint(1,10) #assgining num2 as random of b\n",
    "    num3=num1+num2\n",
    "    print(\"What is\",num1,\"+\",num2,\"?\")\n",
    "    number=int(input(\"Enter your answer:\")) \n",
    "    if num3==number:#checking the num3 is equal to number\n",
    "        i+=1 #increment to loop\n",
    "        print(\"Correct! You've gotten\",i,\"correct in a row\")\n",
    "        if i==3: # checking i is equal to 3 \n",
    "            print(\"Congratulations! You mastered addition.\")\n",
    "    else:\n",
    "        print(\"incorrect.The expected answer is \",num1,\"+\",num2,\"=\",num1+num2)\n",
    "        break"
   ]
  },
  {
   "cell_type": "markdown",
   "metadata": {},
   "source": [
    "## PART C"
   ]
  },
  {
   "cell_type": "markdown",
   "metadata": {},
   "source": [
    "## 7 b\n",
    "Write a program that takes a input_string containing words separated by spaces\n",
    "(assume no punctuation or capitalization), and a target word.\n",
    "Your program should find\n",
    "1. The Position of the target word in the input_string. If the target word has many\n",
    "occurrences, the position of all occurrences has to be printed.\n",
    "2. The total number of occurrences of target word in the given string of words\n",
    "3. Find the position of each word in the input_string"
   ]
  },
  {
   "cell_type": "code",
   "execution_count": 3,
   "metadata": {
    "colab": {
     "base_uri": "https://localhost:8080/"
    },
    "id": "v4-s3dmM5G4K",
    "outputId": "89e6118b-d0f4-4d10-88f2-26c8611c89e5"
   },
   "outputs": [
    {
     "name": "stdout",
     "output_type": "stream",
     "text": [
      "Input String:Almost nothing was more annoying than having our wasted time wasted on something not worth wasting it on\n",
      "Enter the word to target: on\n",
      "position 11,17\n",
      "occurrences 2\n",
      "\n",
      "Summary of words used in the input_string:\n",
      "almost occurred 1 time\n",
      "nothing occurred 1 time\n",
      "was occurred 1 time\n",
      "more occurred 1 time\n",
      "annoying occurred 1 time\n",
      "than occurred 1 time\n",
      "having occurred 1 time\n",
      "our occurred 1 time\n",
      "wasted occurred 2 times\n",
      "time occurred 1 time\n",
      "on occurred 2 times\n",
      "something occurred 1 time\n",
      "not occurred 1 time\n",
      "worth occurred 1 time\n",
      "wasting occurred 1 time\n",
      "it occurred 1 time\n"
     ]
    }
   ],
   "source": [
    "#7b\n",
    "#A program that takes a input_string containing words separated by spaces (assume no punctuation or capitalization), and a target word.\n",
    "input_string=str(input(\"Input String:\")).lower()\n",
    "r=input_string.split() #spliting the words with spaces\n",
    "r=list(r)#making a list\n",
    "d=input(\"Enter the word to target: \")#getting input from user\n",
    "i=0\n",
    "pos= [] # creating empty list for position\n",
    "l=[]  # creating an empty list for l\n",
    "for i in range(len(r)): # \"i\" in range of the len of \"r\" means 14\n",
    "    if r[i] == d:#the r[i] -> r[1] means \"dont\" likes all the index and checks its equal to \"d\"\n",
    "        pos.append(i)#it adds the element in the last of the list \n",
    "print(\"position\",','.join(map(str,pos)))  #map is used to change some datatype. ','join(map(str,pos)) it changes the list into string and joins with \",\"\n",
    "print(\"occurrences\",len(pos))#prints the length of the listof pos\n",
    "# this below program for how many the each is repeated and occurred \n",
    "print(\"\\nSummary of words used in the input_string:\")\n",
    "for z in r: #for \"z\" in \"r\" assigning \n",
    "    if z not in l:#if \"z\" in not in l of list\n",
    "        l.append(z)#it adds the element in the list of l\n",
    "        y=(r.count(z)) #prints the word . r.count(z) means it counts \"r\" in \"z\"\n",
    "        if y==1:#if the count of the word is 1\n",
    "            print(z,\"occurred\",y,\"time\")#prints \"time\"\n",
    "        else:\n",
    "            print(z,\"occurred\",y,\"times\")#print \"times\" if the count is more than 1"
   ]
  },
  {
   "cell_type": "code",
   "execution_count": null,
   "metadata": {},
   "outputs": [],
   "source": []
  }
 ],
 "metadata": {
  "colab": {
   "collapsed_sections": [],
   "name": "final caas.ipynb",
   "provenance": []
  },
  "kernelspec": {
   "display_name": "Python 3 (ipykernel)",
   "language": "python",
   "name": "python3"
  },
  "language_info": {
   "codemirror_mode": {
    "name": "ipython",
    "version": 3
   },
   "file_extension": ".py",
   "mimetype": "text/x-python",
   "name": "python",
   "nbconvert_exporter": "python",
   "pygments_lexer": "ipython3",
   "version": "3.9.6"
  }
 },
 "nbformat": 4,
 "nbformat_minor": 1
}

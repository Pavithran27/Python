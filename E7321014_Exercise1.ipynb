{
 "cells": [
  {
   "cell_type": "markdown",
   "metadata": {},
   "source": [
    "# E7321014_Exercise1"
   ]
  },
  {
   "cell_type": "markdown",
   "metadata": {},
   "source": [
    "# CSC520 PYTHON PROGRAMMING\n",
    "WEEK-1 LAB EXERCISES"
   ]
  },
  {
   "cell_type": "code",
   "execution_count": 1,
   "metadata": {},
   "outputs": [
    {
     "name": "stdout",
     "output_type": "stream",
     "text": [
      "hi\n"
     ]
    }
   ],
   "source": [
    "print(\"hi\")"
   ]
  },
  {
   "cell_type": "markdown",
   "metadata": {},
   "source": [
    "1. Implement python code to print the following in the format specified below:"
   ]
  },
  {
   "cell_type": "code",
   "execution_count": 5,
   "metadata": {},
   "outputs": [
    {
     "name": "stdout",
     "output_type": "stream",
     "text": [
      "Twinkle, twinkle, little star,\n",
      "How I wonder what you are!\n",
      "Up above the world so high,\n",
      "Like a diamond in the sky.\n",
      "\n",
      "Twinkle, twinkle, little star,\n",
      "How I wonder what you are\n"
     ]
    }
   ],
   "source": [
    "print(\"\"\"Twinkle, twinkle, little star,\n",
    "How I wonder what you are!\n",
    "Up above the world so high,\n",
    "Like a diamond in the sky.\n",
    "\n",
    "Twinkle, twinkle, little star,\n",
    "How I wonder what you are\"\"\")"
   ]
  },
  {
   "cell_type": "markdown",
   "metadata": {},
   "source": [
    "2. Write a Python program to display your details like name, age, address in three\n",
    "different lines.\n",
    "\n",
    "Print the datatype and memory location of each of these variables also."
   ]
  },
  {
   "cell_type": "code",
   "execution_count": 50,
   "metadata": {},
   "outputs": [
    {
     "name": "stdout",
     "output_type": "stream",
     "text": [
      "Name: Pavithran \n",
      "age 20 \n",
      "address No.123a srinagar kattuppakkam chennai-56\n",
      "<class 'int'> <class 'str'> <class 'str'>\n",
      "140121720598256 140122206735248 140121729009584\n"
     ]
    }
   ],
   "source": [
    "name=\"Pavithran\"\n",
    "age=20\n",
    "address=\"No.123a srinagar kattuppakkam chennai-56\"\n",
    "print(\"Name:\",name,\"\\nage\",age,\"\\naddress\",address)\n",
    "print(type(age),type(name),type(address))\n",
    "print(id(name),id(age),id(address))"
   ]
  },
  {
   "cell_type": "markdown",
   "metadata": {},
   "source": [
    "3. Implement python program to compute the following\n",
    "The car park area for a new mall will have 80 parking spaces. Of each row can have 4\n",
    "parking sapces for cars, how many rows will the car parl area need?\n",
    "Use appropriate variables and get input from user to calculate the result"
   ]
  },
  {
   "cell_type": "code",
   "execution_count": 7,
   "metadata": {},
   "outputs": [
    {
     "name": "stdout",
     "output_type": "stream",
     "text": [
      "Total number of rows in the parking area = 20.0\n"
     ]
    }
   ],
   "source": [
    "no_of_parking_spaces=80\n",
    "no_of_parking_spaces_in_a_row =4\n",
    "print(\"Total number of rows in the parking area =\",no_of_parking_spaces/no_of_parking_spaces_in_a_row)"
   ]
  },
  {
   "cell_type": "markdown",
   "metadata": {},
   "source": [
    "Getting input from the user"
   ]
  },
  {
   "cell_type": "code",
   "execution_count": 11,
   "metadata": {},
   "outputs": [
    {
     "name": "stdout",
     "output_type": "stream",
     "text": [
      "Enter the Parking spaces 80\n",
      "Enter the parking spaces in a row 8\n",
      "Total number of rows in the parking area = 10\n"
     ]
    }
   ],
   "source": [
    "no_of_parking_spaces=int(input(\"Enter the Parking spaces \"))\n",
    "no_of_parking_spaces_in_a_row =int(input(\"Enter the parking spaces in a row \"))\n",
    "print(\"Total number of rows in the parking area =\",int(no_of_parking_spaces/no_of_parking_spaces_in_a_row))"
   ]
  },
  {
   "cell_type": "markdown",
   "metadata": {},
   "source": [
    "Consider a scenario that\n",
    "Amit wants to sell 26 pens, so far, he has sold 14 to his uncle, 2 to his cousin and 1 to\n",
    "his\n",
    "friend. How many more pens he needs to sell? Use appropriate variables and get input\n",
    "from user to calculate the result"
   ]
  },
  {
   "cell_type": "code",
   "execution_count": 16,
   "metadata": {},
   "outputs": [
    {
     "name": "stdout",
     "output_type": "stream",
     "text": [
      "Amit needs to sell 9 more pens\n"
     ]
    }
   ],
   "source": [
    "total_no_of_pens=26\n",
    "sold_pens=14+2+1 #he has sold 14 to his uncle, 2 to his cousin and 1 to his friend\n",
    "print(\"Amit needs to sell\",total_no_of_pens-sold_pens,'more pens')"
   ]
  },
  {
   "cell_type": "markdown",
   "metadata": {},
   "source": [
    "Getting input from the user"
   ]
  },
  {
   "cell_type": "code",
   "execution_count": 15,
   "metadata": {},
   "outputs": [
    {
     "name": "stdout",
     "output_type": "stream",
     "text": [
      "Enter the total numbers of pens :50\n",
      "Enter the number of pens sold : 20\n",
      "There are 30 pens to sell\n"
     ]
    }
   ],
   "source": [
    "total_no_of_pens=int(input(\"Enter the total numbers of pens :\"))\n",
    "sold_pens=int(input(\"Enter the number of pens sold : \"))\n",
    "print(\"There are\",total_no_of_pens-sold_pens,'pens to sell')"
   ]
  },
  {
   "cell_type": "markdown",
   "metadata": {},
   "source": [
    "4. What is the output of the following code?"
   ]
  },
  {
   "cell_type": "code",
   "execution_count": 1,
   "metadata": {},
   "outputs": [
    {
     "name": "stdout",
     "output_type": "stream",
     "text": [
      "M.sc Data analytics M.sc Data analytics M.sc Data analytics \n"
     ]
    }
   ],
   "source": [
    "myString=\"M.sc Data analytics \"\n",
    "final_output=myString*3\n",
    "print(final_output)"
   ]
  },
  {
   "cell_type": "markdown",
   "metadata": {},
   "source": [
    "5. Find the ouput of the following code:\n"
   ]
  },
  {
   "cell_type": "code",
   "execution_count": 15,
   "metadata": {},
   "outputs": [
    {
     "name": "stdout",
     "output_type": "stream",
     "text": [
      "60 480\n"
     ]
    }
   ],
   "source": [
    "p=10\n",
    "q=20\n",
    "p*=q//3\n",
    "q+=p+q**2\n",
    "print(p,q) "
   ]
  },
  {
   "cell_type": "markdown",
   "metadata": {},
   "source": [
    "6. Find the ouput for the following code:"
   ]
  },
  {
   "cell_type": "code",
   "execution_count": 9,
   "metadata": {},
   "outputs": [
    {
     "name": "stdout",
     "output_type": "stream",
     "text": [
      "15\n",
      "14 50\n"
     ]
    }
   ],
   "source": [
    "x=20\n",
    "x=x+5\n",
    "x=x-10\n",
    "print(x)\n",
    "x,y=x-1,50\n",
    "print(x,y)"
   ]
  },
  {
   "cell_type": "markdown",
   "metadata": {},
   "source": [
    "7. Find the ouput for the following code:"
   ]
  },
  {
   "cell_type": "code",
   "execution_count": 16,
   "metadata": {},
   "outputs": [
    {
     "name": "stdout",
     "output_type": "stream",
     "text": [
      "122.0 11.0 14.0 9\n"
     ]
    }
   ],
   "source": [
    "a=(2 + 3) ** 3-6 / 2\n",
    "b=(2 + 3) * 5// 4 + (4 + 6) / 2\n",
    "c=12 + ( 3 * 4 - 6 ) / 3\n",
    "d=12 % 5 * 3 + (2 * 6) // 4\n",
    "print(a, b, c, d)"
   ]
  },
  {
   "cell_type": "markdown",
   "metadata": {},
   "source": [
    "Advanced Challenges:\n",
    "1. Compare the following two Python codes shown below and state the output if the\n",
    "input entered in each case is -6?"
   ]
  },
  {
   "cell_type": "code",
   "execution_count": 40,
   "metadata": {},
   "outputs": [
    {
     "name": "stdout",
     "output_type": "stream",
     "text": [
      "Enter a number of whose factorial you want to find:-6\n"
     ]
    },
    {
     "ename": "ValueError",
     "evalue": "factorial() not defined for negative values",
     "output_type": "error",
     "traceback": [
      "\u001b[0;31m---------------------------------------------------------------------------\u001b[0m",
      "\u001b[0;31mValueError\u001b[0m                                Traceback (most recent call last)",
      "\u001b[0;32m/tmp/ipykernel_35/3825607049.py\u001b[0m in \u001b[0;36m<module>\u001b[0;34m\u001b[0m\n\u001b[1;32m      1\u001b[0m \u001b[0;32mimport\u001b[0m \u001b[0mmath\u001b[0m\u001b[0;34m\u001b[0m\u001b[0;34m\u001b[0m\u001b[0m\n\u001b[1;32m      2\u001b[0m \u001b[0mnum\u001b[0m\u001b[0;34m=\u001b[0m\u001b[0mint\u001b[0m\u001b[0;34m(\u001b[0m\u001b[0minput\u001b[0m\u001b[0;34m(\u001b[0m\u001b[0;34m\"Enter a number of whose factorial you want to find:\"\u001b[0m\u001b[0;34m)\u001b[0m\u001b[0;34m)\u001b[0m\u001b[0;34m\u001b[0m\u001b[0;34m\u001b[0m\u001b[0m\n\u001b[0;32m----> 3\u001b[0;31m \u001b[0mprint\u001b[0m\u001b[0;34m(\u001b[0m\u001b[0mmath\u001b[0m\u001b[0;34m.\u001b[0m\u001b[0mfactorial\u001b[0m\u001b[0;34m(\u001b[0m\u001b[0mnum\u001b[0m\u001b[0;34m)\u001b[0m\u001b[0;34m)\u001b[0m\u001b[0;34m\u001b[0m\u001b[0;34m\u001b[0m\u001b[0m\n\u001b[0m",
      "\u001b[0;31mValueError\u001b[0m: factorial() not defined for negative values"
     ]
    }
   ],
   "source": [
    "import math\n",
    "num=int(input(\"Enter a number of whose factorial you want to find:\"))\n",
    "print(math.factorial(num))"
   ]
  },
  {
   "cell_type": "code",
   "execution_count": 39,
   "metadata": {},
   "outputs": [
    {
     "name": "stdout",
     "output_type": "stream",
     "text": [
      "Enter a number of whose factorial you want to find:6\n",
      "720\n"
     ]
    }
   ],
   "source": [
    "num=int(input(\"Enter a number of whose factorial you want to find:\"))\n",
    "print(math.factorial(num))"
   ]
  },
  {
   "cell_type": "markdown",
   "metadata": {},
   "source": [
    "2.what type of output it produces, why is it so? Justify your view\n",
    "2. Solve the following loss and gain problem based on the scenario depicted\n",
    "below\n",
    "A customer buys goods worth 200200 rupees from a shop. The shopkeeper selling these\n",
    "goods makes zero profit from this purchase. The lady gives him a 10001000 rupee note.\n",
    "The shopkeeper has no change, so he goes next door to another shopkeeper to get\n",
    "change for the 10001000 rupee note. He keeps 200200 for himself and\n",
    "returns 800800 to the customer. Later, the second shopkeeper from next door comes\n",
    "back with the 10001000 rupee note with a stamp on it saying \"counterfeit\" and takes\n",
    "his money back.\n",
    "How much loss does the first shopkeeper face?\n",
    "Implement the same using python code, analyse your results"
   ]
  },
  {
   "cell_type": "code",
   "execution_count": 53,
   "metadata": {},
   "outputs": [
    {
     "name": "stdout",
     "output_type": "stream",
     "text": [
      "The shopkeeper1 lost: 10201200\n"
     ]
    }
   ],
   "source": [
    "customer_to_shopkeeper1=0 #10001000 fake so, consider as 0\n",
    "shopkeeper1_to_customer=9800800+200200 #800800 change and 200200 goods\n",
    "shopkeeper1_to_shopkeeper2=10001000#shopkeeper2 takes his money back \n",
    "money_loss=200200 #shopkeeper1 loss money \n",
    "# the second shopkeeper given and took back the money \n",
    "shopkeeper1_loss=shopkeeper1_to_customer-customer_to_shopkeeper1+money_loss\n",
    "print(\"The shopkeeper1 lost:\",shopkeeper1_loss)"
   ]
  },
  {
   "cell_type": "markdown",
   "metadata": {},
   "source": [
    "2.Implement a simple budget calculator based on the use cases specified below:\n",
    "Monthly expenses and savings\n",
    "In order to make it in New York City, you have decided to split a two-bedroom apartment with\n",
    "a friend. You will have to budget for rent, food and entertainment, but it's also a good idea to\n",
    "allocate an amount for unforeseen expenses each month. This unforeseen expenses budget\n",
    "could be used for anything ranging from new clothes or electronics to doctor appointments.\n",
    "Set up your monthly budget as follows:\n",
    "\n",
    "• Rent: $1200 / month (Includes utilities)\n",
    "• Food: $30 / day (On average. Includes groceries and eating out.)\n",
    "• Entertainment: $200 / month (Movies, drinks, museums, parties...)\n",
    "• Unforeseen Expenses: 250 / month (Stay safe, and don't drop your phone!)\n",
    "For this application, assume an average of 30 days per month. Whatever is left after your paying\n",
    "your monthly expenses will go into your savings account each month."
   ]
  },
  {
   "cell_type": "code",
   "execution_count": 41,
   "metadata": {},
   "outputs": [
    {
     "name": "stdout",
     "output_type": "stream",
     "text": [
      "Enter the montly salary:3000\n",
      "Enter your monthly rent :1200\n",
      "Enter your daily food budget30\n",
      "Set your monthly entertainment budget:200\n",
      "unforeseen expenses:250\n",
      "Monthly expenses:  2550\n",
      "Monthly savings:  450\n"
     ]
    }
   ],
   "source": [
    "montly_salary=int(input(\"Enter the montly salary:\"))\n",
    "monthly_rent=int(input(\"Enter your monthly rent :\"))\n",
    "daily_food_budget=int(input(\"Enter your daily food budget\"))\n",
    "monthly_food_budget = daily_food_budget*30 #30 days per month\n",
    "monthly_entertainment_budget=int(input(\"Set your monthly entertainment budget:\"))\n",
    "monthly_unforeseen_expenses=int(input(\"unforeseen expenses:\"))\n",
    "monthly_expenses=monthly_rent+monthly_food_budget+monthly_entertainment_budget+monthly_unforeseen_expenses\n",
    "print(\"Monthly expenses: \",monthly_expenses)\n",
    "\n",
    "# Finally, calculate your monthly take-home savings\n",
    "monthly_savings = montly_salary-monthly_expenses\n",
    "print(\"Monthly savings: \",monthly_savings)"
   ]
  },
  {
   "cell_type": "markdown",
   "metadata": {},
   "source": [
    "4.Implement a python program that allows the user to enter the Sales amount and Actual\n",
    "cost of a Product. Find the amount received after the goods is sold to the customer."
   ]
  },
  {
   "cell_type": "code",
   "execution_count": 42,
   "metadata": {},
   "outputs": [
    {
     "name": "stdout",
     "output_type": "stream",
     "text": [
      " Enter the Actual Product Price: 1800\n",
      " Enter the Sales Amount: 2000\n",
      " total amount 200.0\n"
     ]
    }
   ],
   "source": [
    "actual_cost = float(input(\" Enter the Actual Product Price: \"))\n",
    "sale_amount = float(input(\" Enter the Sales Amount: \"))\n",
    "total_amount = sale_amount-actual_cost \n",
    "print(\" total amount\",total_amount)"
   ]
  },
  {
   "cell_type": "markdown",
   "metadata": {},
   "source": [
    "5.Calculate the Employee salary by getting as input the following :Get employee wages and\n",
    "number of days worked from user and find Basic Pay, DA, HRA, PF and Net Pay.\n",
    "(Note HRA, DA and PF are 10%,5%and 12% of basicpay respectively.)"
   ]
  },
  {
   "cell_type": "code",
   "execution_count": 43,
   "metadata": {},
   "outputs": [
    {
     "name": "stdout",
     "output_type": "stream",
     "text": [
      "Enter name of employee:Parker\n",
      "Enter wages per Day:2000\n",
      "Enter No Days Worked:28\n",
      " NAME OF THE EMPLOYEE :  Parker\n",
      " BASIC SALARY :  56000\n",
      " DA :  2800.0\n",
      " HRA:  5600.0\n",
      " PF  6720.0\n",
      " NET PAY :  57680.0\n"
     ]
    }
   ],
   "source": [
    "name=str(input(\"Enter name of employee:\"))\n",
    "wages=int(input(\"Enter wages per Day:\"))\n",
    "days=int(input(\"Enter No Days Worked:\"))\n",
    "basic=wages*days;\n",
    "hra=basic*0.1; #10%\n",
    "da=basic*0.05; #5%\n",
    "pf=basic*0.12; #12%\n",
    "grosspay=basic+hra+da\n",
    "netpay=grosspay-pf;\n",
    "print(\" NAME OF THE EMPLOYEE : \",name)\n",
    "print(\" BASIC SALARY : \",basic)\n",
    "print(\" DA : \",da)\n",
    "print(\" HRA: \",hra)\n",
    "print(\" PF \",pf)\n",
    "print(\" NET PAY : \",netpay)"
   ]
  },
  {
   "cell_type": "code",
   "execution_count": 55,
   "metadata": {},
   "outputs": [],
   "source": [
    "!pip install jovian --upgrade --quiet"
   ]
  },
  {
   "cell_type": "code",
   "execution_count": 57,
   "metadata": {},
   "outputs": [],
   "source": [
    "import jovian"
   ]
  },
  {
   "cell_type": "code",
   "execution_count": 58,
   "metadata": {},
   "outputs": [
    {
     "data": {
      "application/javascript": [
       "window.require && require([\"base/js/namespace\"],function(Jupyter){Jupyter.notebook.save_checkpoint()})"
      ],
      "text/plain": [
       "<IPython.core.display.Javascript object>"
      ]
     },
     "metadata": {},
     "output_type": "display_data"
    },
    {
     "name": "stdout",
     "output_type": "stream",
     "text": [
      "[jovian] Updating notebook \"pavithran83188/python-programming\" on https://jovian.ai\u001b[0m\n",
      "[jovian] Committed successfully! https://jovian.ai/pavithran83188/python-programming\u001b[0m\n"
     ]
    },
    {
     "data": {
      "text/plain": [
       "'https://jovian.ai/pavithran83188/python-programming'"
      ]
     },
     "execution_count": 58,
     "metadata": {},
     "output_type": "execute_result"
    }
   ],
   "source": [
    "jovian.commit()"
   ]
  }
 ],
 "metadata": {
  "kernelspec": {
   "display_name": "Python 3 (ipykernel)",
   "language": "python",
   "name": "python3"
  },
  "language_info": {
   "codemirror_mode": {
    "name": "ipython",
    "version": 3
   },
   "file_extension": ".py",
   "mimetype": "text/x-python",
   "name": "python",
   "nbconvert_exporter": "python",
   "pygments_lexer": "ipython3",
   "version": "3.9.6"
  }
 },
 "nbformat": 4,
 "nbformat_minor": 2
}

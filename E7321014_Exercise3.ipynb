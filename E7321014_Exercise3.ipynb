{
 "cells": [
  {
   "cell_type": "markdown",
   "metadata": {},
   "source": [
    "# python-prac-3\n",
    "\n",
    "Use the \"Run\" button to execute the code."
   ]
  },
  {
   "cell_type": "markdown",
   "metadata": {},
   "source": [
    "1. Consider a string mystring=”Have a good day” . Display each words in the string one below\n",
    "another"
   ]
  },
  {
   "cell_type": "code",
   "execution_count": 1,
   "metadata": {},
   "outputs": [
    {
     "name": "stdout",
     "output_type": "stream",
     "text": [
      "Have\n",
      "a\n",
      "good\n",
      "day\n"
     ]
    }
   ],
   "source": [
    "mystring=\"Have a good day\"\n",
    "print(mystring[0:4])\n",
    "print(mystring[5])\n",
    "print(mystring[7:11])\n",
    "print(mystring[12:])"
   ]
  },
  {
   "cell_type": "markdown",
   "metadata": {},
   "source": [
    "2. Write a program to find the length of the string &quot;refrigerator&quot; without using len function."
   ]
  },
  {
   "cell_type": "code",
   "execution_count": 2,
   "metadata": {},
   "outputs": [
    {
     "name": "stdout",
     "output_type": "stream",
     "text": [
      "12\n"
     ]
    }
   ],
   "source": [
    "x=\"refrigerator\"\n",
    "count=0\n",
    "for i in x:\n",
    "    count=count+1\n",
    "print(count)"
   ]
  },
  {
   "cell_type": "markdown",
   "metadata": {},
   "source": [
    "3. Write a program to check if the word &#39;orange&#39; is present in the &quot;This is orange juice&quot;."
   ]
  },
  {
   "cell_type": "code",
   "execution_count": 3,
   "metadata": {},
   "outputs": [
    {
     "data": {
      "text/plain": [
       "True"
      ]
     },
     "execution_count": 3,
     "metadata": {},
     "output_type": "execute_result"
    }
   ],
   "source": [
    "x=\"This is orange juice\"\n",
    "\"orange\" in x"
   ]
  },
  {
   "cell_type": "markdown",
   "metadata": {},
   "source": [
    "4. Write a program that takes your full name as input and displays the abbreviations of the first\n",
    "and middle names except the last name which is displayed as it is. For example, if your name\n",
    "is Robert Brett Roser, then the output should be R.B.Roser."
   ]
  },
  {
   "cell_type": "code",
   "execution_count": 1,
   "metadata": {},
   "outputs": [
    {
     "name": "stdout",
     "output_type": "stream",
     "text": [
      "enter your full name: robert downey junior\n",
      "R.D.Junior\n"
     ]
    }
   ],
   "source": [
    "x=str(input(\"enter your full name: \"))\n",
    "x=x.title()\n",
    "x=x.split()\n",
    "b=x[0][0]+'.'+x[1][0]+'.'+x[2]\n",
    "print(b)"
   ]
  },
  {
   "cell_type": "markdown",
   "metadata": {},
   "source": [
    "5. Write a program to make a new string with all the consonents deleted from the string &quot;Hello,\n",
    "have a good day&quot;."
   ]
  },
  {
   "cell_type": "code",
   "execution_count": 3,
   "metadata": {},
   "outputs": [
    {
     "name": "stdout",
     "output_type": "stream",
     "text": [
      "eoaeaooa\n"
     ]
    }
   ],
   "source": [
    "a=\"Hello have a good day \"\n",
    "a=a.lower()\n",
    "vowels=\"bcdfghjklmnpqrstvwxyz\"\n",
    "a=a.replace(\" \",\"\")\n",
    "for i in a:\n",
    "    if i in vowels:\n",
    "        a=a.replace(i,\"\")\n",
    "print(a)"
   ]
  },
  {
   "cell_type": "markdown",
   "metadata": {},
   "source": [
    "6. Assign 20 integer to a list and print the following:\n",
    "number of positive numbers\n",
    "number of negative numbers\n",
    "number of odd numbers\n",
    "number of even numbers\n",
    "number of 0s."
   ]
  },
  {
   "cell_type": "code",
   "execution_count": 10,
   "metadata": {},
   "outputs": [
    {
     "name": "stdout",
     "output_type": "stream",
     "text": [
      "Number of odd numbers 11 \n",
      "Number of even numbers 9 \n",
      "Number of Positive numbers 12 \n",
      "Number of Negative numbers 5 \n",
      "Number of zeros 3\n"
     ]
    }
   ],
   "source": [
    "#6\n",
    "alist=[1,2,-3,0,4,-25,0,55,93,-63,0,81,13,40,-45,75,4,1,90,-32]\n",
    "even=0\n",
    "odd=0\n",
    "pos=0\n",
    "zero=0\n",
    "neg=0\n",
    "for i in alist:\n",
    "    if i%2==0:\n",
    "        even+=1\n",
    "    elif i%2!=0:\n",
    "        odd+=1\n",
    "    if i>0:\n",
    "        pos+=1\n",
    "    elif i<0:\n",
    "        neg+=1\n",
    "    elif i==0:\n",
    "        zero+=1\n",
    "print(\"Number of odd numbers\",odd,\"\\nNumber of even numbers\",even,\"\\nNumber of Positive numbers\",pos,\"\\nNumber of Negative numbers\",neg,\"\\nNumber of zeros\",zero)"
   ]
  },
  {
   "cell_type": "markdown",
   "metadata": {},
   "source": [
    "7. Write a program to find the sum of all elements of a list."
   ]
  },
  {
   "cell_type": "code",
   "execution_count": 12,
   "metadata": {},
   "outputs": [
    {
     "name": "stdout",
     "output_type": "stream",
     "text": [
      "15\n"
     ]
    }
   ],
   "source": [
    "a=[1,2,3,4,5]\n",
    "a=sum(a)\n",
    "print(a)"
   ]
  },
  {
   "cell_type": "markdown",
   "metadata": {},
   "source": [
    "8. Make a list by taking 10 input from user. Now delete all repeated elements of the list."
   ]
  },
  {
   "cell_type": "code",
   "execution_count": 23,
   "metadata": {},
   "outputs": [
    {
     "name": "stdout",
     "output_type": "stream",
     "text": [
      "[32, 1, 2, 3, 12]\n"
     ]
    }
   ],
   "source": [
    "a=[1,2,3,2,1,3,12,12,32] \n",
    "print(list(set((a))))"
   ]
  },
  {
   "cell_type": "code",
   "execution_count": 5,
   "metadata": {},
   "outputs": [
    {
     "name": "stdout",
     "output_type": "stream",
     "text": [
      "enter no. \n",
      "1\n",
      "enter no. \n",
      "5\n",
      "enter no. \n",
      "5\n",
      "enter no. \n",
      "5\n",
      "enter no. \n",
      "8\n",
      "enter no. \n",
      "4\n",
      "enter no. \n",
      "1\n",
      "enter no. \n",
      "2\n",
      "enter no. \n",
      "4\n",
      "enter no. \n",
      "2\n",
      "[1, 5, 5, 5, 8, 4, 1, 2, 4, 2]\n",
      "[1, 2, 4, 5, 8]\n"
     ]
    }
   ],
   "source": [
    "#8\n",
    "a=[] \n",
    "for i in range (10):\n",
    "    x=int(input(\"enter no. \\n\")) \n",
    "    a.insert(i,x)\n",
    "print(a)\n",
    "print(list(set(a)))"
   ]
  },
  {
   "cell_type": "markdown",
   "metadata": {},
   "source": [
    "10. Create two list. One containing shopping items and the other containing the prices of each\n",
    "shopping items respectively. Now get input of a shopping item from the customer, check the\n",
    "item is present in the list. If the item is present in the list then print the price of the item present\n",
    "in the same index location of the price list."
   ]
  },
  {
   "cell_type": "markdown",
   "metadata": {},
   "source": [
    "9.Perform caesar cipher on the word assigned to my_string by the shift got as input from the\n",
    "user. Print the plain text, encrypted text, key and decrypted text."
   ]
  },
  {
   "cell_type": "code",
   "execution_count": 5,
   "metadata": {},
   "outputs": [
    {
     "name": "stdout",
     "output_type": "stream",
     "text": [
      "Enter a message to encrpyt: hi can we meet after class\n",
      "The plain text: hi can we meet after class\n",
      "The key: ['zyxwvutsrqponmlkjihgfedcba']\n",
      "The encrpyted text: sr xzm dv nvvg zugvi xozhh\n",
      "The decrpyted text: hi can we meet after class\n"
     ]
    }
   ],
   "source": [
    "letters = \"abcdefghijklmnopqrstuvwxyz\"\n",
    "key = letters[::-1]  #the key here, is my reverse order of letters\n",
    "text = input(\"Enter a message to encrpyt: \").lower()\n",
    "crypt = \"\"\n",
    "decrypt=\"\"\n",
    "for i in text:\n",
    "    if i in letters:\n",
    "        x=letters.find(i)\n",
    "        crypt =crypt + key[x]\n",
    "        #print(x)\n",
    "    else:\n",
    "        crypt+=i\n",
    "print(\"The plain text:\",text)\n",
    "print(\"The key:\",key.split())\n",
    "print(\"The encrpyted text:\",crypt)\n",
    "for i in crypt:\n",
    "    if i in key:\n",
    "        x=key.find(i)\n",
    "        decrypt =decrypt + letters[x]\n",
    "        #print(x)\n",
    "    else:\n",
    "        decrypt+=i\n",
    "print(\"The decrpyted text:\",decrypt)"
   ]
  },
  {
   "cell_type": "code",
   "execution_count": 6,
   "metadata": {},
   "outputs": [
    {
     "name": "stdout",
     "output_type": "stream",
     "text": [
      "1 Apple\n",
      "2 Orange\n",
      "3 Pineapple\n",
      "4 Chocolate\n",
      "5 Butter\n",
      "6 Lolipop\n",
      "Enter the the item:chocolate\n",
      "The item selected is Chocolate \n",
      "Price of the product is 40\n"
     ]
    }
   ],
   "source": [
    "item=[\"Apple\",\"Orange\",\"Pineapple\",\"Chocolate\",\"Butter\",\"Lolipop\"]\n",
    "price=[10,20,30,40,50,12]\n",
    "l=0\n",
    "for i in item:\n",
    "    l=l+1\n",
    "    print(l,i)\n",
    "enter=str(input(\"Enter the the item:\"))\n",
    "enter=enter.title()\n",
    "if enter in item:\n",
    "    y=item.index(enter)\n",
    "    print(\"The item selected is\",enter,\"\\nPrice of the product is\",price[y])\n",
    "else:\n",
    "    print(\"the item is not in the list\")"
   ]
  },
  {
   "cell_type": "code",
   "execution_count": null,
   "metadata": {},
   "outputs": [],
   "source": []
  },
  {
   "cell_type": "code",
   "execution_count": null,
   "metadata": {},
   "outputs": [],
   "source": []
  },
  {
   "cell_type": "code",
   "execution_count": null,
   "metadata": {},
   "outputs": [],
   "source": []
  },
  {
   "cell_type": "code",
   "execution_count": null,
   "metadata": {},
   "outputs": [],
   "source": []
  }
 ],
 "metadata": {
  "kernelspec": {
   "display_name": "Python 3 (ipykernel)",
   "language": "python",
   "name": "python3"
  },
  "language_info": {
   "codemirror_mode": {
    "name": "ipython",
    "version": 3
   },
   "file_extension": ".py",
   "mimetype": "text/x-python",
   "name": "python",
   "nbconvert_exporter": "python",
   "pygments_lexer": "ipython3",
   "version": "3.9.6"
  }
 },
 "nbformat": 4,
 "nbformat_minor": 2
}

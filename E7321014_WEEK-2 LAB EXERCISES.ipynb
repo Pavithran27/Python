{
 "cells": [
  {
   "cell_type": "code",
   "execution_count": 1,
   "id": "076f7ff3",
   "metadata": {},
   "outputs": [
    {
     "name": "stdout",
     "output_type": "stream",
     "text": [
      "\n",
      " Pavithran \n",
      " E7321014 \n",
      " M.sc data analytics \n"
     ]
    }
   ],
   "source": [
    "name=\"Pavithran\"\n",
    "roll_no=\"E7321014\"\n",
    "degree=\"M.sc data analytics \"\n",
    "print(\"\\n\",name,\"\\n\",roll_no,\"\\n\",degree)"
   ]
  },
  {
   "cell_type": "markdown",
   "id": "7a865b3f",
   "metadata": {},
   "source": [
    "1. Consider a list with following elements l=[1,2,3,4,5,6,7,8,9,10]\n",
    "In each iteration print the sum of the current number and previous number"
   ]
  },
  {
   "cell_type": "code",
   "execution_count": 2,
   "id": "7eaa0b6a",
   "metadata": {},
   "outputs": [
    {
     "name": "stdout",
     "output_type": "stream",
     "text": [
      "1\n",
      "3\n",
      "6\n",
      "10\n",
      "15\n",
      "21\n",
      "28\n",
      "36\n",
      "45\n",
      "55\n"
     ]
    }
   ],
   "source": [
    "alist=[1, 2, 3, 4, 5, 6, 7, 8, 9, 10]  \n",
    "sum_list=[]   \n",
    "y = 0  \n",
    "for x in alist :  \n",
    "    y+=x  \n",
    "    sum_list.append(y)   \n",
    "print(*sum_list, sep = \"\\n\")"
   ]
  },
  {
   "cell_type": "markdown",
   "id": "214bd701",
   "metadata": {},
   "source": [
    "2.Given a list of numbers, Iterate it and print only those numbers which are divisible of\n",
    "5. The numbers in the list should be [3,5,6,7,8,9,10,11,15,19,20]"
   ]
  },
  {
   "cell_type": "code",
   "execution_count": 3,
   "id": "d8123982",
   "metadata": {},
   "outputs": [
    {
     "name": "stdout",
     "output_type": "stream",
     "text": [
      "the numbers which are divisible by 5:\n",
      "5\n",
      "10\n",
      "15\n",
      "20\n"
     ]
    }
   ],
   "source": [
    " numbers= [3,5,6,7,8,9,10,11,15,19,20]\n",
    "print('the numbers which are divisible by 5:')\n",
    "for num in numbers:\n",
    "    if num % 5 == 0:\n",
    "        print(num)"
   ]
  },
  {
   "cell_type": "markdown",
   "id": "cdca3e99",
   "metadata": {},
   "source": [
    "3.Calculate income tax for the given income by adhering to the below rules\n",
    "\n",
    " Taxable Income  Rate (in %)\n",
    " First $10,000  0\n",
    " Next $10,000  10\n",
    " The remaining  20\n",
    "\n",
    "Get the name, designation and Salary per month in INR and convert to dollars.\n",
    "Calculate taxable income per year."
   ]
  },
  {
   "cell_type": "code",
   "execution_count": 4,
   "id": "3a1fb430",
   "metadata": {},
   "outputs": [
    {
     "name": "stdout",
     "output_type": "stream",
     "text": [
      "Enter your name:Parker\n",
      "Enter your desigination: scientist\n",
      "enter salary per month in INR: 300000\n",
      "salary in dollars:  3900\n",
      "salary per year (dollars):  46800\n",
      "tax to pay per year 6360.0\n"
     ]
    }
   ],
   "source": [
    "name=str(input(\"Enter your name:\"))\n",
    "designation=str(input(\"Enter your desigination: \"))\n",
    "salary=float(input(\"enter salary per month in INR: \"))\n",
    "salary_in_dollars=int(salary*0.013)\n",
    "print(\"salary in dollars: \",salary_in_dollars)\n",
    "salary_per_year=salary_in_dollars*12\n",
    "print(\"salary per year (dollars): \",salary_per_year)\n",
    "if salary_per_year <=10000:\n",
    "    tax=0 \n",
    "    print(\"no tax to pay\")\n",
    "elif salary_per_year <=20000:\n",
    "    x=salary_per_year-10000\n",
    "    tax=x*0.1\n",
    "    print(\"tax to pay per year\",tax)\n",
    "else:\n",
    "    tax=10000*0.1\n",
    "    tax+=(salary_per_year-20000)*0.2\n",
    "    print(\"tax to pay per year\",tax)"
   ]
  },
  {
   "cell_type": "markdown",
   "id": "d3ea4a2d",
   "metadata": {},
   "source": [
    "4. For numbers starting from 1 to 500 inclusive print the numbers divisible by 5 and\n",
    "print the total count of numbers divisible by 5"
   ]
  },
  {
   "cell_type": "code",
   "execution_count": 5,
   "id": "1381f789",
   "metadata": {},
   "outputs": [
    {
     "name": "stdout",
     "output_type": "stream",
     "text": [
      "Numbers which are divisible by 5:\n",
      "5 10 15 20 25 30 35 40 45 50 55 60 65 70 75 80 85 90 95 100 105 110 115 120 125 130 135 140 145 150 155 160 165 170 175 180 185 190 195 200 205 210 215 220 225 230 235 240 245 250 255 260 265 270 275 280 285 290 295 300 305 310 315 320 325 330 335 340 345 350 355 360 365 370 375 380 385 390 395 400 405 410 415 420 425 430 435 440 445 450 455 460 465 470 475 480 485 490 495 \n",
      "Total count of numbers divisible by 5: 99\n"
     ]
    }
   ],
   "source": [
    "y=[] #created a empty list to add the values and it can be easily counted\n",
    "print(\"Numbers which are divisible by 5:\")\n",
    "for i in range(1,500):\n",
    "    if i % 5 == 0:\n",
    "        y.append(i)\n",
    "        print(i,end=\" \")\n",
    "print(\"\\nTotal count of numbers divisible by 5:\",len(y))"
   ]
  },
  {
   "cell_type": "markdown",
   "id": "1ba13ca3",
   "metadata": {},
   "source": [
    "5. Electricity Bill Calculation:\n",
    "Calculate the monthly electricity bill based on the unit consumed by the customer\n",
    "Get as input consumer number, customer name and unit consumed"
   ]
  },
  {
   "cell_type": "code",
   "execution_count": 6,
   "id": "d26d1e0e",
   "metadata": {},
   "outputs": [
    {
     "name": "stdout",
     "output_type": "stream",
     "text": [
      "Enter your consumer number: 78965412\n",
      "enter your name: Parker\n",
      "enter the unit consumed: 235\n",
      "Electicity bill to be paid by the consumer. 615.0\n"
     ]
    }
   ],
   "source": [
    "consumer_number=int(input(\"Enter your consumer number: \"))\n",
    "name=str(input(\"enter your name: \"))\n",
    "unit=int(input(\"enter the unit consumed: \"))\n",
    "if (unit<=100):\n",
    "    amount=unit*1.5\n",
    "    charge=25.00\n",
    "elif(unit<=200):\n",
    "    amount=(100*1.5)+(unit-100)*2.5\n",
    "    charge=50.00\n",
    "elif(unit<=300):\n",
    "    amount=(100*1.5)+(200-100)*2.5+(unit-200)*4\n",
    "    charge=75.00\n",
    "elif(unit<=350):\n",
    "    amount=(100*1.5)+(200-100)*2.5+(300-200)*4+(unit-300)*5\n",
    "    charge=100.00\n",
    "else:\n",
    "    amount=0\n",
    "    charge=1500.00\n",
    "total_amount=amount+charge;\n",
    "print(\"Electicity bill to be paid by the consumer.\",total_amount)\n"
   ]
  },
  {
   "cell_type": "markdown",
   "id": "594aa488",
   "metadata": {},
   "source": [
    "# 6. Case Study Challenge:"
   ]
  },
  {
   "cell_type": "markdown",
   "id": "b4647817",
   "metadata": {},
   "source": [
    "Write a program to calculate how many months it will take you to save up\n",
    "enough money for a downpayment.\n",
    "You will want your main variables to be floats, so you should cast user inputs to floa\n",
    "ts.\n",
    "Eg) amount=float(input(“enter the amount”))\n",
    " Your program should ask the user to enter the following variables:\n",
    "1. The starting annual salary (annual_salary)\n",
    "2. The portion of salary to be saved (portion_saved)\n",
    "3. The cost of your dream home (total_cost)"
   ]
  },
  {
   "cell_type": "code",
   "execution_count": null,
   "id": "b8f81f02",
   "metadata": {},
   "outputs": [],
   "source": [
    "Part A"
   ]
  },
  {
   "cell_type": "code",
   "execution_count": 2,
   "id": "038cceb4",
   "metadata": {},
   "outputs": [
    {
     "name": "stdout",
     "output_type": "stream",
     "text": [
      "Enter your annual salary:​ 120000\n",
      "Enter the percent of your salary to save, as a decimal: ​.10\n",
      "Enter the cost of your dream home: ​1000000\n",
      "It will take 183 months to save!\n"
     ]
    }
   ],
   "source": [
    "annual_salary = float(input('Enter your annual salary: ')) \n",
    "portion_saved = float(input('Enter the percent of your salary to save, as a decimal: ')) \n",
    "total_cost = float(input('Enter the cost of your dream home: ')) \n",
    "current_savings = 0  \n",
    "portion_down_payment = 0.25 * total_cost  \n",
    "r = 0.04\n",
    "monthly_salary = annual_salary / 12\n",
    "annual_return = (current_savings * r) / 12\n",
    "portion_saved = portion_saved * monthly_salary \n",
    "months = 0\n",
    "while current_savings <= portion_down_payment:\n",
    "    months += 1\n",
    "    current_savings +=  (current_savings * 0.04 ) /12 + portion_saved \n",
    "    #current_savings = current_savings + portion_saved\n",
    "print(\"It will take {} months to save!\".format(months))"
   ]
  },
  {
   "cell_type": "code",
   "execution_count": 6,
   "id": "48703409",
   "metadata": {},
   "outputs": [
    {
     "name": "stdout",
     "output_type": "stream",
     "text": [
      "Enter your annual salary: 120000\n",
      "Enter the percent of your salary to save, as a decimal: .05\n",
      "Enter the cost of your dream home: 500000\n",
      "Enter semi annual rasie to save, as a decimal: .03\n",
      "It will take 170 months to save!\n"
     ]
    }
   ],
   "source": [
    "#tried the following program but the output is not matching the given output\n",
    "annual_salary = float(input('Enter your annual salary: ')) \n",
    "portion_saved = float(input('Enter the percent of your salary to save, as a decimal: ')) \n",
    "total_cost = float(input('Enter the cost of your dream home: ')) \n",
    "semi_annual_raise=float(input('Enter semi annual rasie to save, as a decimal: ')) \n",
    "semi_annual_raise=semi_annual_raise/6\n",
    "current_savings = 0  \n",
    "portion_down_payment = 0.25 * total_cost  \n",
    "r = 0.04\n",
    "monthly_salary = annual_salary / 12\n",
    "annual_return = (current_savings * r) / 12\n",
    "portion_saved = portion_saved * monthly_salary \n",
    "months = 0\n",
    "semi_annual_raise*=monthly_salary\n",
    "while current_savings <= portion_down_payment:\n",
    "    months += 1\n",
    "    current_savings +=  (current_savings * 0.04 ) /12 +semi_annual_raise+ portion_saved\n",
    "    #current_savings = current_savings + portion_saved\n",
    "print(\"It will take {} months to save!\".format(months))"
   ]
  },
  {
   "cell_type": "code",
   "execution_count": null,
   "id": "8a38f81c",
   "metadata": {},
   "outputs": [],
   "source": []
  }
 ],
 "metadata": {
  "kernelspec": {
   "display_name": "Python 3 (ipykernel)",
   "language": "python",
   "name": "python3"
  },
  "language_info": {
   "codemirror_mode": {
    "name": "ipython",
    "version": 3
   },
   "file_extension": ".py",
   "mimetype": "text/x-python",
   "name": "python",
   "nbconvert_exporter": "python",
   "pygments_lexer": "ipython3",
   "version": "3.9.6"
  }
 },
 "nbformat": 4,
 "nbformat_minor": 5
}
